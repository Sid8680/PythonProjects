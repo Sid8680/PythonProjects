{
  "nbformat": 4,
  "nbformat_minor": 0,
  "metadata": {
    "colab": {
      "name": "Untitled2.ipynb",
      "provenance": [],
      "collapsed_sections": [],
      "authorship_tag": "ABX9TyOsh/MIWc6sr4r9nruwUw3B",
      "include_colab_link": true
    },
    "kernelspec": {
      "name": "python3",
      "display_name": "Python 3"
    }
  },
  "cells": [
    {
      "cell_type": "markdown",
      "metadata": {
        "id": "view-in-github",
        "colab_type": "text"
      },
      "source": [
        "<a href=\"https://colab.research.google.com/github/Sid8680/PythonProjects/blob/master/Mnist_HandWriting_CallBackDataSetImport.ipynb\" target=\"_parent\"><img src=\"https://colab.research.google.com/assets/colab-badge.svg\" alt=\"Open In Colab\"/></a>"
      ]
    },
    {
      "cell_type": "code",
      "metadata": {
        "id": "DOd2_PpYNwQJ",
        "colab_type": "code",
        "colab": {
          "base_uri": "https://localhost:8080/",
          "height": 293
        },
        "outputId": "afd30a73-5e44-4653-cc8a-26a5416bdb58"
      },
      "source": [
        "import tensorflow as tf\n",
        "    \n",
        "mnist = tf.keras.datasets.mnist\n",
        "\n",
        "class myCallback(tf.keras.callbacks.Callback):\n",
        "  def on_epoch_end(self, epoch, logs={}):\n",
        "    if(logs.get('accuracy')>0.9900):\n",
        "      print(\"\\nReached 99% accuracy so cancelling training!\")\n",
        "      self.model.stop_training = True\n",
        "\n",
        "    #(x_train, y_train),(x_test, y_test) = mnist.load_data(path=path)\n",
        "(x_train, y_train),(x_test, y_test) = mnist.load_data()\n",
        "x_train  = x_train / 255.0\n",
        "x_test = x_test / 255.0\n",
        "    \n",
        "callbacks = myCallback()\n",
        "    \n",
        "model = tf.keras.models.Sequential([\n",
        "        tf.keras.layers.Flatten(), \n",
        "        tf.keras.layers.Dense(1024, activation=tf.nn.relu), \n",
        "        tf.keras.layers.Dense(512, activation=tf.nn.relu), \n",
        "        tf.keras.layers.Dense(10, activation=tf.nn.softmax)\n",
        "    ])\n",
        "\n",
        "model.compile(optimizer='adam',\n",
        "             loss='sparse_categorical_crossentropy',\n",
        "             metrics=['accuracy'])\n",
        "    \n",
        "    # model fitting\n",
        "    \n",
        "    #history = model.fit(x_train, y_train, epochs=10, callbacks=[callbacks]\n",
        "model.fit(x_train, y_train, epochs=10, callbacks=[callbacks])\n",
        "    # model fitting\n",
        "    #return history.epoch, history.history['acc'][-1]"
      ],
      "execution_count": 17,
      "outputs": [
        {
          "output_type": "stream",
          "text": [
            "Epoch 1/10\n",
            "1875/1875 [==============================] - 27s 14ms/step - loss: 0.1775 - accuracy: 0.9455\n",
            "Epoch 2/10\n",
            "1875/1875 [==============================] - 26s 14ms/step - loss: 0.0801 - accuracy: 0.9753\n",
            "Epoch 3/10\n",
            "1875/1875 [==============================] - 26s 14ms/step - loss: 0.0558 - accuracy: 0.9825\n",
            "Epoch 4/10\n",
            "1875/1875 [==============================] - 27s 14ms/step - loss: 0.0407 - accuracy: 0.9874\n",
            "Epoch 5/10\n",
            "1875/1875 [==============================] - 26s 14ms/step - loss: 0.0341 - accuracy: 0.9896\n",
            "Epoch 6/10\n",
            "1873/1875 [============================>.] - ETA: 0s - loss: 0.0308 - accuracy: 0.9902\n",
            "Reached 99% accuracy so cancelling training!\n",
            "1875/1875 [==============================] - 26s 14ms/step - loss: 0.0308 - accuracy: 0.9902\n"
          ],
          "name": "stdout"
        },
        {
          "output_type": "execute_result",
          "data": {
            "text/plain": [
              "<tensorflow.python.keras.callbacks.History at 0x7f81104f1f60>"
            ]
          },
          "metadata": {
            "tags": []
          },
          "execution_count": 17
        }
      ]
    }
  ]
}